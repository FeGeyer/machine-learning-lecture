{
 "cells": [
  {
   "cell_type": "code",
   "execution_count": 33,
   "metadata": {},
   "outputs": [],
   "source": [
    "%matplotlib inline\n",
    "from ml import plots\n",
    "import matplotlib.pyplot as plt\n",
    "import seaborn as sns\n",
    "import pandas as pd\n",
    "import numpy as np\n",
    "from matplotlib.colors import LinearSegmentedColormap\n",
    "plots.set_plot_style()\n",
    "discrete_cmap = LinearSegmentedColormap.from_list('discrete', colors = [(0.8, 0.2, 0.3), (0.98, 0.6, 0.02), (0.1, 0.8, 0.3), (0, 0.4, 0.8), ], N=4)\n"
   ]
  },
  {
   "cell_type": "markdown",
   "metadata": {},
   "source": [
    "# Neural Networks and Deep Learning\n",
    "\n",
    "\n",
    "## Linear Classification II\n",
    "\n",
    "Previously we talked about classification using a linear function $f(x): \\mathbb{R}^{p} \\to \\mathbb{R}$ and least-square regression.\n",
    "\n",
    "Recall the linear function dependent on the paramter vector $\\beta$\n",
    "\n",
    "\n",
    "$$\n",
    "f(x)= \\hat{y} =  \\hat{\\beta}_0 + \\sum_{j=1}^p x_j \\hat{\\beta}_j\n",
    "$$\n",
    "\n",
    "\n",
    "$$\n",
    "f(x)= \\hat{y} =  x^T \\mathbf{\\beta}\n",
    "$$\n",
    "\n",
    "where $\\beta = (\\beta_0, \\beta_1, \\beta_2, \\ldots, \\beta_p)$ and $x = (1, x_1, x_2, \\ldots, x_p)$.\n",
    "\n",
    "We minimized the residual sum of squares using matrix multiplication.\n",
    "\n",
    "$$\n",
    "RSS(\\beta) = (\\mathbf{y} - \\mathbf{X} \\beta)^T (\\mathbf{y} - \\mathbf{X} \\beta )\n",
    "\\Rightarrow \\hat{\\beta} = (\\mathbf{X}^T \\mathbf{X})^{-1} \\mathbf{X}^T \\mathbf{y}\n",
    "$$\n",
    "\n",
    "\n",
    "In order to perform the classification we had to define the classification function \n",
    "\n",
    "$$\n",
    "\\hat{y} = \\begin{cases}\n",
    "\\text{Yes}, & \\text{if $ f(x) \\gt 0.5$} \\\\\n",
    "\\text{No}, & \\text{if $ f(x) \\le 0.5$}\n",
    "\\end{cases}\n",
    "$$ \n",
    "\n",
    "Now we encode the class label directly into the function. Given a classification problem with $K$ different classes we want $f(x): \\mathbb{R}^{p} \\to \\mathbb{R}^K$ to return a vector of length $K$. Instead of finding the parameters in a vector $\\beta$ we use a $K \\times p$ matrix $\\mathbf{W}$\n",
    "\n",
    "$$\n",
    "f(x) = \\hat{y} =   \\mathbf{W} x\n",
    "$$\n",
    "\n",
    "At this point we could again minimize a modified version of the RSS or the SVM loss. This time however we want to be able to have a more *probabilistic* intepretation of the loss function.\n",
    "\n",
    "We use a new loss function called the __cross-entropy loss__. Given two probability density functions $p$ and $q$ over the same probabilistic space,  cross entropy is defined as\n",
    "\n",
    "$$\n",
    "H_{\\times}(p, q) =     -\\sum _{x} p(x)\\,\\log q(x).\\!\n",
    "$$\n",
    "\n",
    "The cross entropy gives smaller values for similar distributions $q$ and $p$.\n",
    "In case of classification problems $p$ is the true distribution of classes for a given $x$ and $q(x)$ the estimated distribution as produced by our machine learner. \n",
    "\n",
    "In the example below we look at $p$ for the digits dataset. As one example in the dataset can be just one digit, the $p$ vector has only a single non-zero entry. \n",
    "\n",
    "If a classifier produces the same distribution for the dataset we have perfect classification."
   ]
  },
  {
   "cell_type": "code",
   "execution_count": 34,
   "metadata": {},
   "outputs": [
    {
     "name": "stdout",
     "output_type": "stream",
     "text": [
      "True (discrete) probability distributions.\n",
      "[0 0 0 0 0 1 0 0 0 0]\n",
      "[0 0 0 0 0 0 1 0 0 0]\n",
      "[0 0 0 0 0 0 0 1 0 0]\n",
      "[0 0 0 0 0 0 0 0 1 0]\n",
      "[0 0 0 0 0 0 0 0 0 1]\n",
      "[1 0 0 0 0 0 0 0 0 0]\n",
      "[0 1 0 0 0 0 0 0 0 0]\n",
      "[0 0 1 0 0 0 0 0 0 0]\n",
      "[0 0 0 1 0 0 0 0 0 0]\n",
      "[0 0 0 0 1 0 0 0 0 0]\n"
     ]
    },
    {
     "data": {
      "image/png": "[encoded data removed]",
      "text/plain": [
       "<matplotlib.figure.Figure at 0x11b24d128>"
      ]
     },
     "metadata": {},
     "output_type": "display_data"
    }
   ],
   "source": [
    "from sklearn.datasets import load_digits\n",
    "from sklearn import preprocessing\n",
    "X, y = load_digits(return_X_y=True)\n",
    "\n",
    "y = preprocessing.LabelBinarizer().fit_transform(y)\n",
    "\n",
    "print('True (discrete) probability distributions.')\n",
    "\n",
    "fig, axs = plt.subplots(1, 10, figsize=(10, 10))\n",
    "for i, x_i in enumerate(X[5:15]):\n",
    "    ax = axs[i]\n",
    "    img = x_i.reshape(8, 8)\n",
    "    ax.imshow(img, cmap='gray_r', interpolation='nearest')\n",
    "    ax.axis('off')\n",
    "    print(y[i+5])"
   ]
  },
  {
   "cell_type": "markdown",
   "metadata": {},
   "source": [
    "We want our estimated probabilities for the distribitution of class labels to be as close to the true distribution as possible. The result of our function $f(x)$ does not produce probability estimates. We need to *transform the results to probabilities* using the so called __softmax__ function\n",
    "\n",
    "\\begin{align}\n",
    "q_k(x) =& −\\log\\left( \\frac{e^{f_{k}(x)}} {∑_j e^{f_j(x)}} \\right) \\\\\n",
    "q_k(x) =& −f_{k}(x) + \\log\\left(∑_j e^{f_k(x)}\\right)\n",
    "\\end{align}\n",
    "\n",
    "where the index $j \\in \\{1, \\ldots, K \\}$ loops over all classes and $f_k$ is the prediction for class $k$.\n",
    "\n",
    "In shorter words: A classifier using cross entropy loss with softmax produces probabilities for class memberships.\n",
    "\n",
    "In the example below we minimize the cross entropy with softmax to classifiy the digits dataset."
   ]
  },
  {
   "cell_type": "code",
   "execution_count": 61,
   "metadata": {},
   "outputs": [
    {
     "name": "stderr",
     "output_type": "stream",
     "text": [
      "/usr/local/lib/python3.6/site-packages/sklearn/linear_model/base.py:340: RuntimeWarning: overflow encountered in exp\n",
      "  np.exp(prob, prob)\n",
      "/usr/local/lib/python3.6/site-packages/sklearn/linear_model/base.py:347: RuntimeWarning: invalid value encountered in true_divide\n",
      "  prob /= prob.sum(axis=1).reshape((prob.shape[0], -1))\n"
     ]
    },
    {
     "data": {
      "image/png": "[encoded data removed]",
      "text/plain": [
       "<matplotlib.figure.Figure at 0x11c28d7f0>"
      ]
     },
     "metadata": {},
     "output_type": "display_data"
    }
   ],
   "source": [
    "from sklearn.linear_model import SGDClassifier\n",
    "from sklearn.model_selection import train_test_split\n",
    "from sklearn.metrics import confusion_matrix\n",
    "X, y = load_digits(return_X_y=True)\n",
    "\n",
    "X_train, X_test, y_train, y_test = train_test_split(X, y, test_size=0.5, random_state=0)\n",
    "\n",
    "y_test = preprocessing.LabelBinarizer().fit_transform(y_test)\n",
    "\n",
    "clf = SGDClassifier(max_iter=50, tol=1E-4,  loss='log', random_state=0).fit(X_train, y_train)\n",
    "y_prediction = clf.predict_proba(X_test)\n",
    "\n",
    "plt.bar(range(10), np.nansum(y_prediction, axis=0)/np.nansum(y_prediction), width=1, align='edge', alpha=0.5, label='Predicted Distribution')\n",
    "plt.bar(range(10), np.nansum(y_test, axis=0)/np.nansum(y_test), width=1, align='edge', alpha=0.5, label='True Distribution')\n",
    "plt.legend()\n",
    "plt.margins(x=0)"
   ]
  },
  {
   "cell_type": "code",
   "execution_count": null,
   "metadata": {},
   "outputs": [],
   "source": []
  },
  {
   "cell_type": "code",
   "execution_count": null,
   "metadata": {},
   "outputs": [],
   "source": []
  }
 ],
 "metadata": {
  "kernelspec": {
   "display_name": "Python 3",
   "language": "python",
   "name": "python3"
  },
  "language_info": {
   "codemirror_mode": {
    "name": "ipython",
    "version": 3
   },
   "file_extension": ".py",
   "mimetype": "text/x-python",
   "name": "python",
   "nbconvert_exporter": "python",
   "pygments_lexer": "ipython3",
   "version": "3.6.2"
  }
 },
 "nbformat": 4,
 "nbformat_minor": 2
}
